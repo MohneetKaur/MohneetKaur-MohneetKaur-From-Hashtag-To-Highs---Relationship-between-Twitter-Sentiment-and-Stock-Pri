{
 "cells": [
  {
   "cell_type": "code",
   "execution_count": 78,
   "id": "06894d68",
   "metadata": {},
   "outputs": [],
   "source": [
    "import snscrape.modules.twitter as sntwitter\n",
    "import pandas as pd\n",
    "\n",
    "# Define the search query\n",
    "hashtag = ['#Maggi',\n",
    "'#MaggiControversy',\n",
    "'#MaggiNoodles',\n",
    "'#MaggiBan',\n",
    "'#MaggiReturns',\n",
    "'#NestleMaggi',\n",
    "'#LeadInMaggi',\n",
    "'#MSGInMaggi',\n",
    "'#MaggiCrisis',\n",
    "'#MaggiScandal',\n",
    "'#MaggiIsBack',\n",
    "'#MaggiLovers',\n",
    "'#MaggiMania',\n",
    "'#MaggiNation',\n",
    "'#MaggiAddict',\n",
    "'#MaggiFans',\n",
    "'#MaggiVsOtherNoodles',\n",
    "'#MaggiForever']\n",
    "start_date = '2012-01-01'\n",
    "lang = 'en'\n",
    "query = f'{hashtag} since:{start_date} lang:{lang}'\n",
    "\n",
    "# Use snscrape to scrape tweets\n",
    "tweets = []\n",
    "for i, tweet in enumerate(sntwitter.TwitterSearchScraper(query).get_items()):\n",
    "    tweets.append([tweet.date, tweet.id, tweet.content, tweet.user.username, tweet.likeCount, tweet.retweetCount])\n",
    "    if i >= 10000:\n",
    "        break\n",
    "\n",
    "# Convert the list of tweets into a pandas DataFrame\n",
    "columns = ['Date', 'Id', 'Content', 'Username', 'Like Count', 'Retweet Count']\n",
    "df = pd.DataFrame(tweets, columns=columns)\n"
   ]
  },
  {
   "cell_type": "code",
   "execution_count": 1,
   "id": "84d25dae",
   "metadata": {},
   "outputs": [],
   "source": [
    "import pandas as pd\n",
    "import numpy as np"
   ]
  },
  {
   "cell_type": "code",
   "execution_count": 2,
   "id": "64d665d7",
   "metadata": {},
   "outputs": [],
   "source": [
    "from nltk.sentiment.vader import SentimentIntensityAnalyzer\n",
    "sent = SentimentIntensityAnalyzer()"
   ]
  },
  {
   "cell_type": "code",
   "execution_count": 3,
   "id": "954dd742",
   "metadata": {},
   "outputs": [
    {
     "data": {
      "text/html": [
       "<div>\n",
       "<style scoped>\n",
       "    .dataframe tbody tr th:only-of-type {\n",
       "        vertical-align: middle;\n",
       "    }\n",
       "\n",
       "    .dataframe tbody tr th {\n",
       "        vertical-align: top;\n",
       "    }\n",
       "\n",
       "    .dataframe thead th {\n",
       "        text-align: right;\n",
       "    }\n",
       "</style>\n",
       "<table border=\"1\" class=\"dataframe\">\n",
       "  <thead>\n",
       "    <tr style=\"text-align: right;\">\n",
       "      <th></th>\n",
       "      <th>Date</th>\n",
       "      <th>Tweet Id</th>\n",
       "      <th>Text</th>\n",
       "      <th>Username</th>\n",
       "      <th>Like Count</th>\n",
       "      <th>Retweet Count</th>\n",
       "    </tr>\n",
       "  </thead>\n",
       "  <tbody>\n",
       "    <tr>\n",
       "      <th>0</th>\n",
       "      <td>2023-03-14 11:47:11+00:00</td>\n",
       "      <td>1635608508463718401</td>\n",
       "      <td>Watching Cooking shows while eating #MAGGI 🍜 &amp;...</td>\n",
       "      <td>onerarenft</td>\n",
       "      <td>4.0</td>\n",
       "      <td>0.0</td>\n",
       "    </tr>\n",
       "    <tr>\n",
       "      <th>1</th>\n",
       "      <td>2023-03-14 11:34:27+00:00</td>\n",
       "      <td>1635605303252361218</td>\n",
       "      <td>Try doc$hak's practical way of making frothy #...</td>\n",
       "      <td>docshak1</td>\n",
       "      <td>1.0</td>\n",
       "      <td>0.0</td>\n",
       "    </tr>\n",
       "    <tr>\n",
       "      <th>2</th>\n",
       "      <td>2023-03-14 10:22:13+00:00</td>\n",
       "      <td>1635587126958981123</td>\n",
       "      <td>A Tasty Main course Maggi Fried Rice  #maggi #...</td>\n",
       "      <td>DiscoverRecipes</td>\n",
       "      <td>0.0</td>\n",
       "      <td>0.0</td>\n",
       "    </tr>\n",
       "    <tr>\n",
       "      <th>3</th>\n",
       "      <td>2023-03-14 06:44:59+00:00</td>\n",
       "      <td>1635532457129697281</td>\n",
       "      <td>.@MaggiIndia is launching its first-ever Non-F...</td>\n",
       "      <td>afaqs</td>\n",
       "      <td>9.0</td>\n",
       "      <td>1.0</td>\n",
       "    </tr>\n",
       "    <tr>\n",
       "      <th>4</th>\n",
       "      <td>2023-03-14 05:30:00+00:00</td>\n",
       "      <td>1635513587396673538</td>\n",
       "      <td>This will bring a few of its offerings, includ...</td>\n",
       "      <td>indstartupnews</td>\n",
       "      <td>7.0</td>\n",
       "      <td>0.0</td>\n",
       "    </tr>\n",
       "  </tbody>\n",
       "</table>\n",
       "</div>"
      ],
      "text/plain": [
       "                        Date             Tweet Id  \\\n",
       "0  2023-03-14 11:47:11+00:00  1635608508463718401   \n",
       "1  2023-03-14 11:34:27+00:00  1635605303252361218   \n",
       "2  2023-03-14 10:22:13+00:00  1635587126958981123   \n",
       "3  2023-03-14 06:44:59+00:00  1635532457129697281   \n",
       "4  2023-03-14 05:30:00+00:00  1635513587396673538   \n",
       "\n",
       "                                                Text         Username  \\\n",
       "0  Watching Cooking shows while eating #MAGGI 🍜 &...       onerarenft   \n",
       "1  Try doc$hak's practical way of making frothy #...         docshak1   \n",
       "2  A Tasty Main course Maggi Fried Rice  #maggi #...  DiscoverRecipes   \n",
       "3  .@MaggiIndia is launching its first-ever Non-F...            afaqs   \n",
       "4  This will bring a few of its offerings, includ...   indstartupnews   \n",
       "\n",
       "   Like Count  Retweet Count  \n",
       "0         4.0            0.0  \n",
       "1         1.0            0.0  \n",
       "2         0.0            0.0  \n",
       "3         9.0            1.0  \n",
       "4         7.0            0.0  "
      ]
     },
     "execution_count": 3,
     "metadata": {},
     "output_type": "execute_result"
    }
   ],
   "source": [
    "df = pd.read_csv('Maggi Tweets.csv')\n",
    "df.head()"
   ]
  },
  {
   "cell_type": "code",
   "execution_count": 4,
   "id": "40025a82",
   "metadata": {},
   "outputs": [
    {
     "data": {
      "text/plain": [
       "dtype('O')"
      ]
     },
     "execution_count": 4,
     "metadata": {},
     "output_type": "execute_result"
    }
   ],
   "source": [
    "df['Text'].dtype"
   ]
  },
  {
   "cell_type": "code",
   "execution_count": 5,
   "id": "90e0addd",
   "metadata": {},
   "outputs": [],
   "source": [
    "df['Text str'] = df['Text'].astype(str)"
   ]
  },
  {
   "cell_type": "code",
   "execution_count": 6,
   "id": "1e7b1a7d",
   "metadata": {},
   "outputs": [
    {
     "data": {
      "text/plain": [
       "dtype('O')"
      ]
     },
     "execution_count": 6,
     "metadata": {},
     "output_type": "execute_result"
    }
   ],
   "source": [
    "df['Text str'].dtype"
   ]
  },
  {
   "cell_type": "code",
   "execution_count": 7,
   "id": "2e02c109",
   "metadata": {},
   "outputs": [],
   "source": [
    "# Define a function to convert a float to an encoded string\n",
    "def encode_float(f):\n",
    "    return str(f).encode('utf-8')\n",
    "\n",
    "# Apply the function to the float column using apply()\n",
    "df['Text'] = df['Text'].apply(encode_float)"
   ]
  },
  {
   "cell_type": "code",
   "execution_count": 8,
   "id": "7e47fdb9",
   "metadata": {},
   "outputs": [
    {
     "data": {
      "text/html": [
       "<div>\n",
       "<style scoped>\n",
       "    .dataframe tbody tr th:only-of-type {\n",
       "        vertical-align: middle;\n",
       "    }\n",
       "\n",
       "    .dataframe tbody tr th {\n",
       "        vertical-align: top;\n",
       "    }\n",
       "\n",
       "    .dataframe thead th {\n",
       "        text-align: right;\n",
       "    }\n",
       "</style>\n",
       "<table border=\"1\" class=\"dataframe\">\n",
       "  <thead>\n",
       "    <tr style=\"text-align: right;\">\n",
       "      <th></th>\n",
       "      <th>Date</th>\n",
       "      <th>Tweet Id</th>\n",
       "      <th>Text</th>\n",
       "      <th>Username</th>\n",
       "      <th>Like Count</th>\n",
       "      <th>Retweet Count</th>\n",
       "      <th>Text str</th>\n",
       "    </tr>\n",
       "  </thead>\n",
       "  <tbody>\n",
       "    <tr>\n",
       "      <th>0</th>\n",
       "      <td>2023-03-14 11:47:11+00:00</td>\n",
       "      <td>1635608508463718401</td>\n",
       "      <td>b'Watching Cooking shows while eating #MAGGI \\...</td>\n",
       "      <td>onerarenft</td>\n",
       "      <td>4.0</td>\n",
       "      <td>0.0</td>\n",
       "      <td>Watching Cooking shows while eating #MAGGI 🍜 &amp;...</td>\n",
       "    </tr>\n",
       "    <tr>\n",
       "      <th>1</th>\n",
       "      <td>2023-03-14 11:34:27+00:00</td>\n",
       "      <td>1635605303252361218</td>\n",
       "      <td>b\"Try doc$hak's practical way of making frothy...</td>\n",
       "      <td>docshak1</td>\n",
       "      <td>1.0</td>\n",
       "      <td>0.0</td>\n",
       "      <td>Try doc$hak's practical way of making frothy #...</td>\n",
       "    </tr>\n",
       "    <tr>\n",
       "      <th>2</th>\n",
       "      <td>2023-03-14 10:22:13+00:00</td>\n",
       "      <td>1635587126958981123</td>\n",
       "      <td>b'A Tasty Main course Maggi Fried Rice  #maggi...</td>\n",
       "      <td>DiscoverRecipes</td>\n",
       "      <td>0.0</td>\n",
       "      <td>0.0</td>\n",
       "      <td>A Tasty Main course Maggi Fried Rice  #maggi #...</td>\n",
       "    </tr>\n",
       "    <tr>\n",
       "      <th>3</th>\n",
       "      <td>2023-03-14 06:44:59+00:00</td>\n",
       "      <td>1635532457129697281</td>\n",
       "      <td>b'.@MaggiIndia is launching its first-ever Non...</td>\n",
       "      <td>afaqs</td>\n",
       "      <td>9.0</td>\n",
       "      <td>1.0</td>\n",
       "      <td>.@MaggiIndia is launching its first-ever Non-F...</td>\n",
       "    </tr>\n",
       "    <tr>\n",
       "      <th>4</th>\n",
       "      <td>2023-03-14 05:30:00+00:00</td>\n",
       "      <td>1635513587396673538</td>\n",
       "      <td>b'This will bring a few of its offerings, incl...</td>\n",
       "      <td>indstartupnews</td>\n",
       "      <td>7.0</td>\n",
       "      <td>0.0</td>\n",
       "      <td>This will bring a few of its offerings, includ...</td>\n",
       "    </tr>\n",
       "  </tbody>\n",
       "</table>\n",
       "</div>"
      ],
      "text/plain": [
       "                        Date             Tweet Id  \\\n",
       "0  2023-03-14 11:47:11+00:00  1635608508463718401   \n",
       "1  2023-03-14 11:34:27+00:00  1635605303252361218   \n",
       "2  2023-03-14 10:22:13+00:00  1635587126958981123   \n",
       "3  2023-03-14 06:44:59+00:00  1635532457129697281   \n",
       "4  2023-03-14 05:30:00+00:00  1635513587396673538   \n",
       "\n",
       "                                                Text         Username  \\\n",
       "0  b'Watching Cooking shows while eating #MAGGI \\...       onerarenft   \n",
       "1  b\"Try doc$hak's practical way of making frothy...         docshak1   \n",
       "2  b'A Tasty Main course Maggi Fried Rice  #maggi...  DiscoverRecipes   \n",
       "3  b'.@MaggiIndia is launching its first-ever Non...            afaqs   \n",
       "4  b'This will bring a few of its offerings, incl...   indstartupnews   \n",
       "\n",
       "   Like Count  Retweet Count  \\\n",
       "0         4.0            0.0   \n",
       "1         1.0            0.0   \n",
       "2         0.0            0.0   \n",
       "3         9.0            1.0   \n",
       "4         7.0            0.0   \n",
       "\n",
       "                                            Text str  \n",
       "0  Watching Cooking shows while eating #MAGGI 🍜 &...  \n",
       "1  Try doc$hak's practical way of making frothy #...  \n",
       "2  A Tasty Main course Maggi Fried Rice  #maggi #...  \n",
       "3  .@MaggiIndia is launching its first-ever Non-F...  \n",
       "4  This will bring a few of its offerings, includ...  "
      ]
     },
     "execution_count": 8,
     "metadata": {},
     "output_type": "execute_result"
    }
   ],
   "source": [
    "df.head()"
   ]
  },
  {
   "cell_type": "code",
   "execution_count": 9,
   "id": "db0a1a51",
   "metadata": {},
   "outputs": [],
   "source": [
    "polarity = [round(sent.polarity_scores(i)['compound'], 2) for i in df['Text str']]\n",
    "df['sentiment_score'] = polarity"
   ]
  },
  {
   "cell_type": "code",
   "execution_count": 10,
   "id": "5a6442d3",
   "metadata": {},
   "outputs": [
    {
     "data": {
      "text/plain": [
       "-0.96"
      ]
     },
     "execution_count": 10,
     "metadata": {},
     "output_type": "execute_result"
    }
   ],
   "source": [
    "df['sentiment_score'].min()"
   ]
  },
  {
   "cell_type": "code",
   "execution_count": 11,
   "id": "e091929c",
   "metadata": {},
   "outputs": [
    {
     "data": {
      "text/plain": [
       "0.98"
      ]
     },
     "execution_count": 11,
     "metadata": {},
     "output_type": "execute_result"
    }
   ],
   "source": [
    "df['sentiment_score'].max()"
   ]
  },
  {
   "cell_type": "code",
   "execution_count": 12,
   "id": "b8e80e1f",
   "metadata": {},
   "outputs": [],
   "source": [
    "def get_category(score):\n",
    "    if score >= 0.05:\n",
    "        return 'Positive'\n",
    "    elif score <= -0.05 :\n",
    "        return 'Negative'\n",
    "    else:\n",
    "        return 'Neutral'\n"
   ]
  },
  {
   "cell_type": "code",
   "execution_count": 13,
   "id": "c44dc91d",
   "metadata": {},
   "outputs": [],
   "source": [
    "# Apply the get_category function to each row of the dataframe\n",
    "df['Category'] = df['sentiment_score'].apply(lambda x: get_category(x))"
   ]
  },
  {
   "cell_type": "code",
   "execution_count": 14,
   "id": "5659a6bd",
   "metadata": {},
   "outputs": [
    {
     "data": {
      "text/html": [
       "<div>\n",
       "<style scoped>\n",
       "    .dataframe tbody tr th:only-of-type {\n",
       "        vertical-align: middle;\n",
       "    }\n",
       "\n",
       "    .dataframe tbody tr th {\n",
       "        vertical-align: top;\n",
       "    }\n",
       "\n",
       "    .dataframe thead th {\n",
       "        text-align: right;\n",
       "    }\n",
       "</style>\n",
       "<table border=\"1\" class=\"dataframe\">\n",
       "  <thead>\n",
       "    <tr style=\"text-align: right;\">\n",
       "      <th></th>\n",
       "      <th>Date</th>\n",
       "      <th>Tweet Id</th>\n",
       "      <th>Text</th>\n",
       "      <th>Username</th>\n",
       "      <th>Like Count</th>\n",
       "      <th>Retweet Count</th>\n",
       "      <th>Text str</th>\n",
       "      <th>sentiment_score</th>\n",
       "      <th>Category</th>\n",
       "    </tr>\n",
       "  </thead>\n",
       "  <tbody>\n",
       "    <tr>\n",
       "      <th>0</th>\n",
       "      <td>2023-03-14 11:47:11+00:00</td>\n",
       "      <td>1635608508463718401</td>\n",
       "      <td>b'Watching Cooking shows while eating #MAGGI \\...</td>\n",
       "      <td>onerarenft</td>\n",
       "      <td>4.0</td>\n",
       "      <td>0.0</td>\n",
       "      <td>Watching Cooking shows while eating #MAGGI 🍜 &amp;...</td>\n",
       "      <td>0.00</td>\n",
       "      <td>Neutral</td>\n",
       "    </tr>\n",
       "    <tr>\n",
       "      <th>1</th>\n",
       "      <td>2023-03-14 11:34:27+00:00</td>\n",
       "      <td>1635605303252361218</td>\n",
       "      <td>b\"Try doc$hak's practical way of making frothy...</td>\n",
       "      <td>docshak1</td>\n",
       "      <td>1.0</td>\n",
       "      <td>0.0</td>\n",
       "      <td>Try doc$hak's practical way of making frothy #...</td>\n",
       "      <td>0.00</td>\n",
       "      <td>Neutral</td>\n",
       "    </tr>\n",
       "    <tr>\n",
       "      <th>2</th>\n",
       "      <td>2023-03-14 10:22:13+00:00</td>\n",
       "      <td>1635587126958981123</td>\n",
       "      <td>b'A Tasty Main course Maggi Fried Rice  #maggi...</td>\n",
       "      <td>DiscoverRecipes</td>\n",
       "      <td>0.0</td>\n",
       "      <td>0.0</td>\n",
       "      <td>A Tasty Main course Maggi Fried Rice  #maggi #...</td>\n",
       "      <td>0.00</td>\n",
       "      <td>Neutral</td>\n",
       "    </tr>\n",
       "    <tr>\n",
       "      <th>3</th>\n",
       "      <td>2023-03-14 06:44:59+00:00</td>\n",
       "      <td>1635532457129697281</td>\n",
       "      <td>b'.@MaggiIndia is launching its first-ever Non...</td>\n",
       "      <td>afaqs</td>\n",
       "      <td>9.0</td>\n",
       "      <td>1.0</td>\n",
       "      <td>.@MaggiIndia is launching its first-ever Non-F...</td>\n",
       "      <td>0.00</td>\n",
       "      <td>Neutral</td>\n",
       "    </tr>\n",
       "    <tr>\n",
       "      <th>4</th>\n",
       "      <td>2023-03-14 05:30:00+00:00</td>\n",
       "      <td>1635513587396673538</td>\n",
       "      <td>b'This will bring a few of its offerings, incl...</td>\n",
       "      <td>indstartupnews</td>\n",
       "      <td>7.0</td>\n",
       "      <td>0.0</td>\n",
       "      <td>This will bring a few of its offerings, includ...</td>\n",
       "      <td>0.46</td>\n",
       "      <td>Positive</td>\n",
       "    </tr>\n",
       "  </tbody>\n",
       "</table>\n",
       "</div>"
      ],
      "text/plain": [
       "                        Date             Tweet Id  \\\n",
       "0  2023-03-14 11:47:11+00:00  1635608508463718401   \n",
       "1  2023-03-14 11:34:27+00:00  1635605303252361218   \n",
       "2  2023-03-14 10:22:13+00:00  1635587126958981123   \n",
       "3  2023-03-14 06:44:59+00:00  1635532457129697281   \n",
       "4  2023-03-14 05:30:00+00:00  1635513587396673538   \n",
       "\n",
       "                                                Text         Username  \\\n",
       "0  b'Watching Cooking shows while eating #MAGGI \\...       onerarenft   \n",
       "1  b\"Try doc$hak's practical way of making frothy...         docshak1   \n",
       "2  b'A Tasty Main course Maggi Fried Rice  #maggi...  DiscoverRecipes   \n",
       "3  b'.@MaggiIndia is launching its first-ever Non...            afaqs   \n",
       "4  b'This will bring a few of its offerings, incl...   indstartupnews   \n",
       "\n",
       "   Like Count  Retweet Count  \\\n",
       "0         4.0            0.0   \n",
       "1         1.0            0.0   \n",
       "2         0.0            0.0   \n",
       "3         9.0            1.0   \n",
       "4         7.0            0.0   \n",
       "\n",
       "                                            Text str  sentiment_score  \\\n",
       "0  Watching Cooking shows while eating #MAGGI 🍜 &...             0.00   \n",
       "1  Try doc$hak's practical way of making frothy #...             0.00   \n",
       "2  A Tasty Main course Maggi Fried Rice  #maggi #...             0.00   \n",
       "3  .@MaggiIndia is launching its first-ever Non-F...             0.00   \n",
       "4  This will bring a few of its offerings, includ...             0.46   \n",
       "\n",
       "   Category  \n",
       "0   Neutral  \n",
       "1   Neutral  \n",
       "2   Neutral  \n",
       "3   Neutral  \n",
       "4  Positive  "
      ]
     },
     "execution_count": 14,
     "metadata": {},
     "output_type": "execute_result"
    }
   ],
   "source": [
    "df.head()"
   ]
  },
  {
   "cell_type": "code",
   "execution_count": 15,
   "id": "1136d10a",
   "metadata": {},
   "outputs": [
    {
     "data": {
      "text/html": [
       "<div>\n",
       "<style scoped>\n",
       "    .dataframe tbody tr th:only-of-type {\n",
       "        vertical-align: middle;\n",
       "    }\n",
       "\n",
       "    .dataframe tbody tr th {\n",
       "        vertical-align: top;\n",
       "    }\n",
       "\n",
       "    .dataframe thead th {\n",
       "        text-align: right;\n",
       "    }\n",
       "</style>\n",
       "<table border=\"1\" class=\"dataframe\">\n",
       "  <thead>\n",
       "    <tr style=\"text-align: right;\">\n",
       "      <th></th>\n",
       "      <th>Date</th>\n",
       "      <th>Username</th>\n",
       "      <th>Like Count</th>\n",
       "      <th>Retweet Count</th>\n",
       "      <th>Text str</th>\n",
       "      <th>sentiment_score</th>\n",
       "      <th>Category</th>\n",
       "    </tr>\n",
       "  </thead>\n",
       "  <tbody>\n",
       "    <tr>\n",
       "      <th>0</th>\n",
       "      <td>2023-03-14 11:47:11+00:00</td>\n",
       "      <td>onerarenft</td>\n",
       "      <td>4.0</td>\n",
       "      <td>0.0</td>\n",
       "      <td>Watching Cooking shows while eating #MAGGI 🍜 &amp;...</td>\n",
       "      <td>0.00</td>\n",
       "      <td>Neutral</td>\n",
       "    </tr>\n",
       "    <tr>\n",
       "      <th>1</th>\n",
       "      <td>2023-03-14 11:34:27+00:00</td>\n",
       "      <td>docshak1</td>\n",
       "      <td>1.0</td>\n",
       "      <td>0.0</td>\n",
       "      <td>Try doc$hak's practical way of making frothy #...</td>\n",
       "      <td>0.00</td>\n",
       "      <td>Neutral</td>\n",
       "    </tr>\n",
       "    <tr>\n",
       "      <th>2</th>\n",
       "      <td>2023-03-14 10:22:13+00:00</td>\n",
       "      <td>DiscoverRecipes</td>\n",
       "      <td>0.0</td>\n",
       "      <td>0.0</td>\n",
       "      <td>A Tasty Main course Maggi Fried Rice  #maggi #...</td>\n",
       "      <td>0.00</td>\n",
       "      <td>Neutral</td>\n",
       "    </tr>\n",
       "    <tr>\n",
       "      <th>3</th>\n",
       "      <td>2023-03-14 06:44:59+00:00</td>\n",
       "      <td>afaqs</td>\n",
       "      <td>9.0</td>\n",
       "      <td>1.0</td>\n",
       "      <td>.@MaggiIndia is launching its first-ever Non-F...</td>\n",
       "      <td>0.00</td>\n",
       "      <td>Neutral</td>\n",
       "    </tr>\n",
       "    <tr>\n",
       "      <th>4</th>\n",
       "      <td>2023-03-14 05:30:00+00:00</td>\n",
       "      <td>indstartupnews</td>\n",
       "      <td>7.0</td>\n",
       "      <td>0.0</td>\n",
       "      <td>This will bring a few of its offerings, includ...</td>\n",
       "      <td>0.46</td>\n",
       "      <td>Positive</td>\n",
       "    </tr>\n",
       "    <tr>\n",
       "      <th>...</th>\n",
       "      <td>...</td>\n",
       "      <td>...</td>\n",
       "      <td>...</td>\n",
       "      <td>...</td>\n",
       "      <td>...</td>\n",
       "      <td>...</td>\n",
       "      <td>...</td>\n",
       "    </tr>\n",
       "    <tr>\n",
       "      <th>5774</th>\n",
       "      <td>2015-06-04 15:21:42+00:00</td>\n",
       "      <td>NomadWanderer</td>\n",
       "      <td>0.0</td>\n",
       "      <td>0.0</td>\n",
       "      <td>Instant way to this Girls Heart #101 well done...</td>\n",
       "      <td>0.27</td>\n",
       "      <td>Positive</td>\n",
       "    </tr>\n",
       "    <tr>\n",
       "      <th>5775</th>\n",
       "      <td>2015-06-04 08:08:23+00:00</td>\n",
       "      <td>supreeth1110</td>\n",
       "      <td>0.0</td>\n",
       "      <td>0.0</td>\n",
       "      <td>#eating #Maggi whole #day #supportmaggi #Maggi...</td>\n",
       "      <td>0.00</td>\n",
       "      <td>Neutral</td>\n",
       "    </tr>\n",
       "    <tr>\n",
       "      <th>5776</th>\n",
       "      <td>2014-06-04 22:58:50+00:00</td>\n",
       "      <td>studiochidesign</td>\n",
       "      <td>0.0</td>\n",
       "      <td>0.0</td>\n",
       "      <td>That time.......#naijaantics #almostamidnights...</td>\n",
       "      <td>0.00</td>\n",
       "      <td>Neutral</td>\n",
       "    </tr>\n",
       "    <tr>\n",
       "      <th>5777</th>\n",
       "      <td>2014-04-17 14:03:03+00:00</td>\n",
       "      <td>imtryam</td>\n",
       "      <td>0.0</td>\n",
       "      <td>0.0</td>\n",
       "      <td>Destroy a single grain of Maggi Tastemaster an...</td>\n",
       "      <td>-0.83</td>\n",
       "      <td>Negative</td>\n",
       "    </tr>\n",
       "    <tr>\n",
       "      <th>5778</th>\n",
       "      <td>2013-12-14 16:28:30+00:00</td>\n",
       "      <td>MagicNate19</td>\n",
       "      <td>0.0</td>\n",
       "      <td>0.0</td>\n",
       "      <td>@Sarah_Burges @SNaruto22 No hurt feelings .. j...</td>\n",
       "      <td>-0.60</td>\n",
       "      <td>Negative</td>\n",
       "    </tr>\n",
       "  </tbody>\n",
       "</table>\n",
       "<p>5779 rows × 7 columns</p>\n",
       "</div>"
      ],
      "text/plain": [
       "                           Date         Username  Like Count  Retweet Count  \\\n",
       "0     2023-03-14 11:47:11+00:00       onerarenft         4.0            0.0   \n",
       "1     2023-03-14 11:34:27+00:00         docshak1         1.0            0.0   \n",
       "2     2023-03-14 10:22:13+00:00  DiscoverRecipes         0.0            0.0   \n",
       "3     2023-03-14 06:44:59+00:00            afaqs         9.0            1.0   \n",
       "4     2023-03-14 05:30:00+00:00   indstartupnews         7.0            0.0   \n",
       "...                         ...              ...         ...            ...   \n",
       "5774  2015-06-04 15:21:42+00:00    NomadWanderer         0.0            0.0   \n",
       "5775  2015-06-04 08:08:23+00:00     supreeth1110         0.0            0.0   \n",
       "5776  2014-06-04 22:58:50+00:00  studiochidesign         0.0            0.0   \n",
       "5777  2014-04-17 14:03:03+00:00          imtryam         0.0            0.0   \n",
       "5778  2013-12-14 16:28:30+00:00      MagicNate19         0.0            0.0   \n",
       "\n",
       "                                               Text str  sentiment_score  \\\n",
       "0     Watching Cooking shows while eating #MAGGI 🍜 &...             0.00   \n",
       "1     Try doc$hak's practical way of making frothy #...             0.00   \n",
       "2     A Tasty Main course Maggi Fried Rice  #maggi #...             0.00   \n",
       "3     .@MaggiIndia is launching its first-ever Non-F...             0.00   \n",
       "4     This will bring a few of its offerings, includ...             0.46   \n",
       "...                                                 ...              ...   \n",
       "5774  Instant way to this Girls Heart #101 well done...             0.27   \n",
       "5775  #eating #Maggi whole #day #supportmaggi #Maggi...             0.00   \n",
       "5776  That time.......#naijaantics #almostamidnights...             0.00   \n",
       "5777  Destroy a single grain of Maggi Tastemaster an...            -0.83   \n",
       "5778  @Sarah_Burges @SNaruto22 No hurt feelings .. j...            -0.60   \n",
       "\n",
       "      Category  \n",
       "0      Neutral  \n",
       "1      Neutral  \n",
       "2      Neutral  \n",
       "3      Neutral  \n",
       "4     Positive  \n",
       "...        ...  \n",
       "5774  Positive  \n",
       "5775   Neutral  \n",
       "5776   Neutral  \n",
       "5777  Negative  \n",
       "5778  Negative  \n",
       "\n",
       "[5779 rows x 7 columns]"
      ]
     },
     "execution_count": 15,
     "metadata": {},
     "output_type": "execute_result"
    }
   ],
   "source": [
    "df.drop(columns=['Text','Tweet Id'],axis=1)"
   ]
  },
  {
   "cell_type": "code",
   "execution_count": 16,
   "id": "29daa446",
   "metadata": {},
   "outputs": [
    {
     "data": {
      "text/plain": [
       "1974"
      ]
     },
     "execution_count": 16,
     "metadata": {},
     "output_type": "execute_result"
    }
   ],
   "source": [
    "len(df[df['Category']=='Neutral'])"
   ]
  },
  {
   "cell_type": "code",
   "execution_count": 17,
   "id": "865277c6",
   "metadata": {},
   "outputs": [
    {
     "data": {
      "text/plain": [
       "2285"
      ]
     },
     "execution_count": 17,
     "metadata": {},
     "output_type": "execute_result"
    }
   ],
   "source": [
    "len(df[df['Category']=='Positive'])"
   ]
  },
  {
   "cell_type": "code",
   "execution_count": 18,
   "id": "e80f826a",
   "metadata": {},
   "outputs": [
    {
     "data": {
      "text/plain": [
       "1520"
      ]
     },
     "execution_count": 18,
     "metadata": {},
     "output_type": "execute_result"
    }
   ],
   "source": [
    "len(df[df['Category']=='Negative'])"
   ]
  },
  {
   "cell_type": "code",
   "execution_count": 21,
   "id": "d9677fc6",
   "metadata": {},
   "outputs": [],
   "source": [
    "df.to_csv('Labelled Maggie tweets.csv',index=False)"
   ]
  },
  {
   "cell_type": "markdown",
   "id": "9c8cf9c9",
   "metadata": {},
   "source": [
    "# MAGGI "
   ]
  }
 ],
 "metadata": {
  "kernelspec": {
   "display_name": "Python 3 (ipykernel)",
   "language": "python",
   "name": "python3"
  },
  "language_info": {
   "codemirror_mode": {
    "name": "ipython",
    "version": 3
   },
   "file_extension": ".py",
   "mimetype": "text/x-python",
   "name": "python",
   "nbconvert_exporter": "python",
   "pygments_lexer": "ipython3",
   "version": "3.9.7"
  }
 },
 "nbformat": 4,
 "nbformat_minor": 5
}
